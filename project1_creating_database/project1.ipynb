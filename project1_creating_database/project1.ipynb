{
 "cells": [
  {
   "cell_type": "markdown",
   "metadata": {},
   "source": [
    "# Project 1: SQLite Basics - Your Step-by-Step Guide\n",
    "Welcome to Project 1! In this project, you'll learn the fundamentals of working with SQLite, a lightweight and powerful database. We'll cover creating databases, defining tables, inserting data, and querying information.\n",
    "## **Objectives:**\n",
    "* Understand the basics of SQLite.\n",
    " * Learn how to create a SQLite database.\n",
    " * Define table schemas.\n",
    " * Insert, read, and query data.\n",
    " * Practice basic error handling.\n",
    "## **Prerequisites:**\n",
    " * Python 3.6+ installed.\n",
    " * Basic Python knowledge.\n",
    " * Familiarity with Jupyter Notebooks (recommended)."
   ]
  },
  {
   "cell_type": "markdown",
   "metadata": {},
   "source": [
    "# Background\n",
    "SQLite is a C-language library that provides a lightweight disk-based database that doesn't require a separate server process. Here's a breakdown of what it is and its best use cases:\n",
    "\n",
    "## What is SQLite?:\n",
    "1. Embedded Database:\n",
    "    * SQLite is \"embedded,\" meaning it's integrated directly into the application. This eliminates the need for a separate database server.\n",
    "    * The entire database is contained within a single file on the disk.\n",
    "2. Serverless:\n",
    "    * Unlike client-server database systems (like MySQL or PostgreSQL), SQLite doesn't require a separate server process to run.\n",
    "    * This simplifies setup and administration.\n",
    "3. Lightweight:\n",
    "    * SQLite has a small footprint, making it ideal for resource-constrained environments.\n",
    "4. Self-Contained:\n",
    "    * It's a self-contained, transactional SQL database engine.\n",
    "\n",
    "## Advantages:\n",
    "- **Simplicity**: Easy to set up and use.\n",
    "- **Portability**: Database files can be easily moved between systems and directories.\n",
    "- **Sharability**: File can be shared.\n",
    "- **Reliability**: Robust and stable.\n",
    "\n",
    "## Disadvantages:\n",
    "- **Concurrency**: SQLite doesn't handle high levels of concurrent write operations as well as client-server databases.\n",
    "- **Network Access**: SQLite is primarily designed for local file access, though there are emerging methods to use it in client server situations.\n",
    "- **Large Datasets**: For very large datasets** or high-traffic applications, a client-server database is typically a better choice.\n",
    "\n",
    "** a large dataset isn't necesarily defined by number of rows, but rather complexity. Hundreds of columns with 500,000 rows could be just as complex as 5 columns with 10,000,000 rows."
   ]
  },
  {
   "cell_type": "markdown",
   "metadata": {},
   "source": [
    "# Usage\n",
    "SQLite comes pre-installed with Python, so there is nothing additional to install when using install\n",
    "`import sqlite3`\n",
    "\n",
    "To create a new database, call the following. If the database already exists, a connection will be established to the existing database. If one does not exist, a new database will automatically be created. The database name can also be a path\n",
    "`conn = sqlite3.connect('database_name.db')`"
   ]
  },
  {
   "cell_type": "code",
   "execution_count": null,
   "metadata": {},
   "outputs": [],
   "source": [
    "# Create a database called \"employees.db\" here:\n",
    "conn = "
   ]
  },
  {
   "cell_type": "markdown",
   "metadata": {},
   "source": [
    "To actually perform any actions within a database, you must establish a 'cursor'. A cursor is a control structure that allows you to interact and manipulate the database itself.\n",
    "\n",
    "To establish a cursor, you run the `cursor()` function on the connection object.\n",
    "`cursor = conn.cursor()`"
   ]
  },
  {
   "cell_type": "code",
   "execution_count": null,
   "metadata": {},
   "outputs": [],
   "source": [
    "# Create a cursor to your employee database:\n",
    "cursor = "
   ]
  },
  {
   "cell_type": "markdown",
   "metadata": {},
   "source": [
    "Now that a cursor is set up, you can execute SQL queries. However, for this example, there are no tables in the database yet.\n",
    "\n",
    "To compare to excel, a connection is an Excel file and a table is an Excel sheet. You can have multiple sheets within one singular Excel file in the same way that you can have multiple tables in the same database.\n",
    "\n",
    "Before we can create a table, we must go over datatypes and schema. The table needs to know exactly what data it should expect. This includes the columns as well as the datatypes for each column.\n",
    "\n",
    "Depending on your database provider (in this case, SQLite), the datatypes can vary. But for SQLite, here are the datatypes available:\n",
    "- NULL: a missing or empty value\n",
    "- INTEGER: any whole number without a decimal (ex: 4)\n",
    "- REAL: a floating point number with a decimal (ex: 4.0)\n",
    "- TEXT: text strings (ex: 'four' or '4')\n",
    "- DATE: stores date values in the format 'YYYY-MM-DD'\n",
    "\n",
    "Databases also require a way to ensure data integrity to uniquely reference rows in a table. This is called a \"Primary Key\". Primary keys can never be duplicated or be null. Most database providers require a primary key, but SQLite does not. However, just because it is not required doesn't mean one shouldn't/couldn't be assigned."
   ]
  },
  {
   "cell_type": "markdown",
   "metadata": {},
   "source": [
    "To create a new table, you can use the \"CREATE IF NOT EXISTS\" statement, followed by the table name, the column header names, and the expected data type for each column in parameters for the `execute()` function.\n",
    "\n",
    "```\n",
    "cursor.execute('''\n",
    "    CREATE TABLE IF NOT EXISTS employee_data (\n",
    "        id INTEGER PRIMARY KEY,\n",
    "        name TEXT,\n",
    "        department TEXT,\n",
    "        salary REAL\n",
    "    )\n",
    "''')\n",
    "```\n",
    "\n",
    "The triple single quotes (`'''`) allow for multiline string input for better readability. This could also be done on a single line:\n",
    "\n",
    "`cursor.execute(\"CREATE TABLE IF NOT EXISTS employee_data (id INTEGER PRIMARY KEY, name TEXT, department TEXT, salary REAL)\")`\n",
    "\n",
    "This will create 4 columns: id, which is an integer and acts as the primary key, name as text, department as text, and salary as a decimal"
   ]
  },
  {
   "cell_type": "code",
   "execution_count": null,
   "metadata": {},
   "outputs": [],
   "source": [
    "# create a table called 'employee_data' with the following columns:\n",
    "# id = integer and primary key\n",
    "# first_name = text\n",
    "# last_name = text\n",
    "# start_date = date\n",
    "# termination_date = date\n",
    "# salary = real\n",
    "# department = text\n",
    "\n",
    "query = \"\"\"\n",
    "\n",
    "    ** insert your sql statement here\n",
    "\n",
    "\"\"\"\n",
    "\n",
    "cursor.execute(query)"
   ]
  },
  {
   "cell_type": "markdown",
   "metadata": {},
   "source": []
  }
 ],
 "metadata": {
  "kernelspec": {
   "display_name": "Python 3",
   "language": "python",
   "name": "python3"
  },
  "language_info": {
   "codemirror_mode": {
    "name": "ipython",
    "version": 3
   },
   "file_extension": ".py",
   "mimetype": "text/x-python",
   "name": "python",
   "nbconvert_exporter": "python",
   "pygments_lexer": "ipython3",
   "version": "3.13.0"
  }
 },
 "nbformat": 4,
 "nbformat_minor": 2
}
