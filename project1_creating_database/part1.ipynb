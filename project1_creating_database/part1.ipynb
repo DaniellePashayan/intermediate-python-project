{
 "cells": [
  {
   "cell_type": "markdown",
   "metadata": {},
   "source": [
    "# Project 1: SQLite Basics - Your Step-by-Step Guide\n",
    "Welcome to Project 1! In this project, you'll learn the fundamentals of working with SQLite, a lightweight and powerful database. We'll cover creating databases, defining tables, inserting data, and querying information.\n",
    "## **Objectives:**\n",
    "* Understand the basics of SQLite.\n",
    " * Learn how to create a SQLite database.\n",
    " * Define table schemas.\n",
    " * Insert, read, and query data.\n",
    " * Practice basic error handling.\n",
    "## **Prerequisites:**\n",
    " * Python 3.6+ installed.\n",
    " * Basic Python knowledge.\n",
    " * Familiarity with Jupyter Notebooks (recommended)."
   ]
  },
  {
   "cell_type": "markdown",
   "metadata": {},
   "source": [
    "# Background\n",
    "SQLite is a library that provides a lightweight disk-based database that doesn't require a separate server process. Here's a breakdown of what it is and its best use cases:\n",
    "\n",
    "## What is SQLite?:\n",
    "1. Embedded Database:\n",
    "    * SQLite is \"embedded,\" meaning it's integrated directly into the application. This eliminates the need for a separate database server.\n",
    "    * The entire database is contained within a single file on the disk.\n",
    "2. Serverless:\n",
    "    * Unlike client-server database systems (like MySQL or PostgreSQL), SQLite doesn't require a separate server process to run.\n",
    "    * This simplifies setup and administration.\n",
    "3. Lightweight:\n",
    "    * SQLite has a small footprint, making it ideal for resource-constrained environments.\n",
    "4. Self-Contained:\n",
    "    * It's a self-contained, transactional SQL database engine.\n",
    "\n",
    "## Advantages:\n",
    "- **Simplicity**: Easy to set up and use.\n",
    "- **Portability**: Database files can be easily moved between systems and directories.\n",
    "- **Sharability**: File can be shared.\n",
    "- **Reliability**: Robust and stable.\n",
    "\n",
    "## Disadvantages:\n",
    "- **Concurrency**: SQLite doesn't handle high levels of concurrent write operations as well as client-server databases.\n",
    "- **Network Access**: SQLite is primarily designed for local file access, though there are emerging methods to use it in client server situations.\n",
    "- **Large Datasets**: For very large datasets** or high-traffic applications, a client-server database is typically a better choice.\n",
    "\n",
    "** a large dataset isn't necesarily defined by number of rows, but rather complexity. Hundreds of columns with 500,000 rows could be just as complex as 5 columns with 10,000,000 rows."
   ]
  },
  {
   "cell_type": "markdown",
   "metadata": {},
   "source": [
    "# Usage\n",
    "SQLite comes pre-installed with Python, so there is nothing additional to install when using install\n",
    "`import sqlite3`\n",
    "\n",
    "To create a new database, call the following. If the database already exists, a connection will be established to the existing database. If one does not exist, a new database will automatically be created. The database name can also be a path\n",
    "`conn = sqlite3.connect('database_name.db')`"
   ]
  },
  {
   "cell_type": "code",
   "execution_count": 1,
   "metadata": {},
   "outputs": [],
   "source": [
    "# Create a database called \"employees.db\" here:\n",
    "import sqlite3\n",
    "conn = "
   ]
  },
  {
   "cell_type": "markdown",
   "metadata": {},
   "source": [
    "To actually perform any actions within a database, you must establish a 'cursor'. A cursor is a control structure that allows you to interact and manipulate the database itself.\n",
    "\n",
    "To establish a cursor, you run the `cursor()` function on the connection object.\n",
    "`cursor = conn.cursor()`"
   ]
  },
  {
   "cell_type": "code",
   "execution_count": 2,
   "metadata": {},
   "outputs": [],
   "source": [
    "# Create a cursor to your employee database:\n",
    "cursor = "
   ]
  },
  {
   "cell_type": "markdown",
   "metadata": {},
   "source": [
    "Now that a cursor is set up, you can execute SQL queries. However, for this example, there are no tables in the database yet.\n",
    "\n",
    "To compare to excel, a connection is an Excel file and a table is an Excel sheet. You can have multiple sheets within one singular Excel file in the same way that you can have multiple tables in the same database.\n",
    "\n",
    "Before we can create a table, we must go over datatypes and schema. The table needs to know exactly what data it should expect. This includes the columns as well as the datatypes for each column.\n",
    "\n",
    "Depending on your database provider (in this case, SQLite), the datatypes can vary. But for SQLite, here are the datatypes available:\n",
    "- NULL: a missing or empty value\n",
    "- INTEGER: any whole number without a decimal (ex: 4)\n",
    "- REAL: a floating point number with a decimal (ex: 4.0)\n",
    "- TEXT: text strings (ex: 'four' or '4')\n",
    "- DATE: stores date values in the format 'YYYY-MM-DD'\n",
    "\n",
    "Databases also require a way to ensure data integrity to uniquely reference rows in a table. This is called a \"Primary Key\". Primary keys can never be duplicated or be null. Most database providers require a primary key, but SQLite does not. However, just because it is not required doesn't mean one shouldn't/couldn't be assigned."
   ]
  },
  {
   "cell_type": "markdown",
   "metadata": {},
   "source": [
    "To create a new table, you can use the \"CREATE IF NOT EXISTS\" statement, followed by the table name, the column header names, and the expected data type for each column in parameters for the `execute()` function.\n",
    "\n",
    "```\n",
    "cursor.execute('''\n",
    "    CREATE TABLE IF NOT EXISTS employee_data (\n",
    "        id INTEGER PRIMARY KEY,\n",
    "        name TEXT,\n",
    "        department TEXT,\n",
    "        salary REAL\n",
    "    )\n",
    "''')\n",
    "```\n",
    "\n",
    "** Important note: Best practice is to have the column names have no spaces. This is because some database providers do not support spaces in column names. If you need to separate words, use an underscore.\n",
    "\n",
    "The triple single quotes (`'''`) allow for multiline string input for better readability. This could also be done on a single line:\n",
    "\n",
    "`cursor.execute(\"CREATE TABLE IF NOT EXISTS employee_data (id INTEGER PRIMARY KEY, name TEXT, department TEXT, salary REAL)\")`\n",
    "\n",
    "This will create 4 columns: id, which is an integer and acts as the primary key, name as text, department as text, and salary as a decimal"
   ]
  },
  {
   "cell_type": "code",
   "execution_count": 4,
   "metadata": {},
   "outputs": [
    {
     "data": {
      "text/plain": [
       "<sqlite3.Cursor at 0x21de1495c40>"
      ]
     },
     "execution_count": 4,
     "metadata": {},
     "output_type": "execute_result"
    }
   ],
   "source": [
    "# create a table called 'employee_data' with the following columns:\n",
    "# id = integer and primary key\n",
    "# first_name = text\n",
    "# last_name = text\n",
    "# start_date = date\n",
    "# termination_date = date\n",
    "# salary = real\n",
    "# department = text\n",
    "\n",
    "query = \"\"\"\n",
    "    \n",
    "    ** insert statement here\n",
    "    \n",
    "\"\"\"\n",
    "\n",
    "cursor.execute(query)"
   ]
  },
  {
   "cell_type": "markdown",
   "metadata": {},
   "source": [
    "To save the changes to the database, you must 'commit' the changes. This commit is done at the database connection level\n",
    "`conn.commit()`"
   ]
  },
  {
   "cell_type": "code",
   "execution_count": 5,
   "metadata": {},
   "outputs": [],
   "source": [
    "# Commit the changes:\n"
   ]
  },
  {
   "cell_type": "markdown",
   "metadata": {},
   "source": [
    "# Inserting into Table\n",
    "To insert into a table, you can use an INSERT statement and include the table name, the columns to be inserted into and the data. The data (ie the rows to be inserted) should be formatted as a tuple and must be in the same order as the columns passed in the statement.\n",
    "\n",
    "```\n",
    "cursor.execute('''\n",
    "    INSERT INTO employee_data (id, first_name, last_name, start_date, termination_date, salary, department) VALUES\n",
    "    (12345678, 'Mary', 'Smith', '2025-01-27', NULL , 5123.00, 'Sales'),\n",
    "    (34567834, 'Joe', 'Jones', '2020-06-12', '2021-11-23' , 127982.00, 'HR')\n",
    "''')\n",
    "```"
   ]
  },
  {
   "cell_type": "code",
   "execution_count": null,
   "metadata": {},
   "outputs": [],
   "source": [
    "# write an insert statement that will insert the following row:\n",
    "# id = 123456789\n",
    "# first_name = David\n",
    "# last_name = English\n",
    "# start_date = '2020-01-15'\n",
    "# termination_date = NULL\n",
    "# salary = 12345.00\n",
    "# department = IT\n",
    "query2 = \"\"\"\n",
    "\n",
    "    ** insert query here\n",
    "\n",
    "\"\"\"\n",
    "\n",
    "cursor.execute(query2)\n",
    "conn.commit()"
   ]
  },
  {
   "cell_type": "markdown",
   "metadata": {},
   "source": [
    "This method works for inserting single or a handful of entries, but is not ideal for large inserts. Since SQLite is built into python and is widely used, it is seamlessly compatible with Pandas.\n",
    "\n",
    "Pandas' dataframes have a built in `.to_sql()` function. Simply pass in the table name, connection, if_exists, and index parameters to write the dataframe directly to your table.\n",
    "\n",
    "```\n",
    "import pandas as pd\n",
    "\n",
    "df = pd.read_csv('./sampple_data/employees.csv')\n",
    "df.to_sql('employee_data', conn, if_exists='append', index=False)\n",
    "\n",
    "```\n",
    "\n",
    "The 'if_exists' parameter tells pandas what to do if the table already exists. 'Fail' will throw an error, 'replace' will delete the existing table and overwrite it, and 'append' will add the data to the end of the table.\n",
    "\n",
    "This also works now because the columns in the dataframe match the columns in the table. If they don't, you can use the 'columns' parameter to specify which columns to write or clean the dataframe to match the table."
   ]
  },
  {
   "cell_type": "code",
   "execution_count": 17,
   "metadata": {},
   "outputs": [],
   "source": [
    "# read the employees.csv file and insert it into the employee_data table:\n",
    "import pandas as pd\n",
    "\n",
    "\n",
    "\n",
    "\n",
    "\n",
    "conn.commit()"
   ]
  },
  {
   "cell_type": "markdown",
   "metadata": {},
   "source": [
    "If using VSCode, you can click on the database file in the 'Explorer' pane to preview the database in real time.\n",
    "\n",
    "One of the downsides to SQLite is datatypes are not enforced. Even though we set the datatype for salary as REAL (ie a float/decimal), the values got written as strings and included the dollar sign. This can cause many issues down the line when it comes to querying.\n",
    "\n",
    "The simplest way of managing this is to clean the data before writing it. We'll go over more advanced options later\n",
    "\n",
    "## Data Cleaning\n",
    "```import datetime\n",
    "df['start_date'] = pd.to_datetime(df['start_date']).strftime('%Y-%m-%d')\n",
    "df['termination_date'] = pd.to_datetime(df['termination_date']).strftime('%Y-%m-%d')\n",
    "df['salary'] = df['salary'].replace('$', '')\n",
    "df = df.dtypes({\n",
    "    'id': str,\n",
    "    'first_name': str,\n",
    "    'last_name': str,\n",
    "    'start_date': str,\n",
    "    'termination_date': str,\n",
    "    'salary': float,\n",
    "    'department': str\n",
    "})\n",
    "\n",
    "df.to_sql('employee_data', conn, if_exists='append', index=False)\n",
    "```"
   ]
  },
  {
   "cell_type": "code",
   "execution_count": null,
   "metadata": {},
   "outputs": [],
   "source": [
    "# clean the data this time and write to sql\n",
    "# when writing to SQL, use \"if_exists='replace' for now to avoid duplicates\n",
    "df =\n",
    "\n",
    "df.to_sql('employee_data', conn, if_exists='replace', index=False)"
   ]
  },
  {
   "cell_type": "markdown",
   "metadata": {},
   "source": [
    "## Handeling Duplicate Primary Keys\n",
    "Using pandas.to_sql() is a great way to quickly write data to a database, but it doesn't allow for much customization. Because of primary keys, we can't just write the data as is. We need to unpack the data and write it row by row so that we can check if a value already exists. Failing to do so will throw a \"not unique\" error and the entire database write will fail.\n",
    "\n",
    "1. Iterate over the dataframe using `iterrows()`\n",
    "2. Check if the id (which is our primary key) already exists in the database\n",
    "    - This can be done by running a SELECT statement on the database to query for the id and return the first result (result = cursor.fetchone())\n",
    "3. If it doesn't, insert the row into the database\n",
    "4. If it does, print a message and skip the row\n",
    "\n",
    "```for index, row in df.iterrows():\n",
    "    cursor.execute('SELECT id FROM employee_data WHERE id = ?', (row['id'],))\n",
    "    result = cursor.fetchone()\n",
    "    if result is None:\n",
    "        cursor.execute('''\n",
    "            INSERT INTO employee_data (id, first_name, last_name, start_date, termination_date, salary, department) VALUES\n",
    "            (?, ?, ?, ?, ?, ?, ?)\n",
    "        ''', (row['id'], row['first_name'], row['last_name'], row['start_date'], row['termination_date'], row['salary'], row['department']))\n",
    "    else:\n",
    "        print(f\"Skipping row with id {row['id']} as it already exists in the database.\")```"
   ]
  },
  {
   "cell_type": "markdown",
   "metadata": {},
   "source": [
    "## Updating Data\n",
    "Updating data is done using the UPDATE statement. This statement requires a WHERE clause to specify which rows to update. If the WHERE clause is omitted, all rows will be updated.\n",
    "\n",
    "If the primary key already exists, you may want to update the row instead of skipping it. This can be done by using the ON CONFLICT clause. This clause tells SQLite what to do if a conflict arises (ie a duplicate primary key). In this case, we want to update the row.\n",
    "\n",
    "```for index, row in df.iterrows():\n",
    "    cursor.execute('SELECT id FROM employee_data WHERE id = ?', (row['id'],))\n",
    "    result = cursor.fetchone()\n",
    "    if result:\n",
    "        cursor.execute('''\n",
    "            UPDATE employee_data SET first_name = ?, last_name = ?, start_date = ?, termination_date = ?, salary = ?, department = ? WHERE id = ?\n",
    "        ''', (row['first_name'], row['last_name'], row['start_date'], row['termination_date'], row['salary'], row['department'], row['id']))```"
   ]
  },
  {
   "cell_type": "markdown",
   "metadata": {},
   "source": [
    "## Deleting Data\n",
    "Deleting data is done using the DELETE statement. This statement requires a WHERE clause to specify which rows to delete. If the WHERE clause is omitted, all rows will be deleted.\n",
    "\n",
    "```cursor.execute('DELETE FROM employee_data WHERE id = 12345678')```"
   ]
  },
  {
   "cell_type": "code",
   "execution_count": null,
   "metadata": {},
   "outputs": [],
   "source": [
    "# Read in employees1.csv. There are 2 employees with updated termination dates (Nancy Harris and Fiona Miller)\n",
    "# the other employees should be skipped\n",
    "\n",
    "\n",
    "\n",
    "\n",
    "\n",
    "conn.commit()"
   ]
  },
  {
   "cell_type": "markdown",
   "metadata": {},
   "source": [
    "## Querying Data\n",
    "As previously mentioned, Pandas seamlessly integrates with SQLite. This means you can use SQL queries to pull data from the database and load it directly into a dataframe.\n",
    "\n",
    "```query = 'SELECT * FROM employee_data'\n",
    "df = pd.read_sql_query(query, conn)```\n",
    "\n",
    "This will return all rows and columns from the employee_data table. You can also use the WHERE clause to filter the data.\n",
    "\n",
    "```query = 'SELECT * FROM employee_data WHERE department = \"Sales\"'\n",
    "df = pd.read_sql_query(query, conn)```"
   ]
  },
  {
   "cell_type": "code",
   "execution_count": null,
   "metadata": {},
   "outputs": [],
   "source": [
    "# Return a list of employees who make more than $70,000. There should be 10\n",
    "\n",
    "\n",
    "\n",
    "\n",
    "\n",
    "# Return a list of employees that work in the HR department. There should be 4\n",
    "\n",
    "\n",
    "\n",
    "\n",
    "# Return a list of employees who were hired in 2020. There should be 3\n",
    "\n",
    "\n",
    "\n",
    "\n",
    "# Return a list of all active employees that do not have a termination date. There should be 9\n",
    "\n",
    "\n",
    "\n",
    "\n"
   ]
  },
  {
   "cell_type": "markdown",
   "metadata": {},
   "source": [
    "## Once this exercise is completed, move to part2.ipynb to learn more advanced concepts and techniques."
   ]
  }
 ],
 "metadata": {
  "kernelspec": {
   "display_name": "Python 3",
   "language": "python",
   "name": "python3"
  },
  "language_info": {
   "codemirror_mode": {
    "name": "ipython",
    "version": 3
   },
   "file_extension": ".py",
   "mimetype": "text/x-python",
   "name": "python",
   "nbconvert_exporter": "python",
   "pygments_lexer": "ipython3",
   "version": "3.11.4"
  }
 },
 "nbformat": 4,
 "nbformat_minor": 2
}
