{
 "cells": [
  {
   "cell_type": "markdown",
   "metadata": {},
   "source": [
    "# Intro to SQLAlchemy\n",
    "Remembering syntax and database schemas is hard and complicated. SQLAlchemy is a Python SQL toolkit and Object-Relational Mapping (ORM) library that abstracts away the complexity of SQL queries and allows you to interact with databases using Python objects. This notebook will introduce you to the basics of SQLAlchemy and how to interact with databases using Python.\n",
    "\n",
    "In this section, we will re-work the previous examples using SQLAlchemy. We will use the same database schema and queries as before, but this time we will use SQLAlchemy to interact with the database."
   ]
  },
  {
   "cell_type": "markdown",
   "metadata": {},
   "source": [
    "# Defining a Schema\n",
    "The first step in using SQLAlchemy is to define a schema for the database. This is done by creating a class for each table in the database. Each class should inherit from the `Base` class provided by SQLAlchemy and define the table name and columns using the `__tablename__` and `Column` attributes.\n",
    "\n",
    "```from sqlalchemy import Column, Integer, String, Date, Float, create_engine\n",
    "from sqlalchemy.orm import declarative_base\n",
    "\n",
    "Base = declarative_base()\n",
    "\n",
    "class Employee(Base):\n",
    "    __tablename__ = 'employee_data'\n",
    "\n",
    "    id = Column(Integer, primary_key=True)\n",
    "    first_name = Column(String)\n",
    "    last_name = Column(String)\n",
    "    start_date = Column(Date)\n",
    "    termination_date = Column(Date)\n",
    "    salary = Column(Float)\n",
    "    department = Column(String)```\n",
    "\n",
    "# Connecting to a Database\n",
    "Once the schema is defined, you can connect to a database using the `create_engine` function provided by SQLAlchemy. The `create_engine` function takes a connection string as an argument and returns an engine object that can be used to interact with the database. You must also specify the type of database you are connecting to (e.g., SQLite, MySQL, PostgreSQL) in the connection string. The engine object will handle the connection to the database and execute SQL queries in the same way the conn and cursor did with SQLite3\n",
    "\n",
    "```engine = create_engine('sqlite:///employees2.db')```\n",
    "\n",
    "# Creating Tables\n",
    "To create the tables in the database, you can use the `Base.metadata.create_all` method and pass in the engine object. If the table already exists, this method will not create it again.\n",
    "\n",
    "```Base.metadata.create_all(engine)```"
   ]
  },
  {
   "cell_type": "code",
   "execution_count": 2,
   "metadata": {},
   "outputs": [],
   "source": [
    "# Create a new database called \"employees2.db\" that includes a table called \"employees\" with the same columns and types as the original \"employees\" table.\n",
    "\n",
    "\n"
   ]
  },
  {
   "cell_type": "markdown",
   "metadata": {},
   "source": [
    "## Inserting Data\n",
    "This SQLAlchemy class not only defines the schema of the database, but can also detect and transform the data types of the columns of the data passed into the class. \n",
    "\n",
    "### Read the data from the CSV file\n",
    "```import pandas as pd\n",
    "data = pd.read_csv('./sample_data/employees.csv')```\n",
    "\n",
    "### Convert the rows of the DataFrame to a list of dictionaries\n",
    "```data = data.to_dict(orient='records')```\n",
    "\n",
    "### Create a list of Employee objects\n",
    "```employees = [Employee(**row) for row in data]```\n",
    "\n",
    "As long as the column names in the dataframe match the column names in the class, the data will be mapped to the Employee object correctly.\n",
    "\n",
    "With this, you can individually see the values of the columns of the Employee object by calling the object's attributes.\n",
    "\n",
    "```print(employees[0].first_name)```\n",
    "This should print \"Alice\""
   ]
  },
  {
   "cell_type": "code",
   "execution_count": 11,
   "metadata": {},
   "outputs": [
    {
     "data": {
      "text/plain": [
       "str"
      ]
     },
     "execution_count": 11,
     "metadata": {},
     "output_type": "execute_result"
    }
   ],
   "source": [
    "# Read in employees.csv and convert into a list of Employee objects. Ensure the list of objects is called employees.\n",
    "\n",
    "\n",
    "\n",
    "\n",
    "type(employees[0].salary)"
   ]
  },
  {
   "cell_type": "markdown",
   "metadata": {},
   "source": [
    "If you notice, the salary still isn't converted to a float. You can either clean the dataframe before mapping or you can define a validation in the class itself.\n",
    "\n",
    "```from sqlalchemy import Column, Integer, String, Date, Float, create_engine\n",
    "from sqlalchemy.orm import declarative_base, validates\n",
    "\n",
    "Base = declarative_base()\n",
    "\n",
    "class Employee(Base):\n",
    "    __tablename__ = 'employee_data'\n",
    "\n",
    "    id = Column(Integer, primary_key=True)\n",
    "    first_name = Column(String)\n",
    "    last_name = Column(String)\n",
    "    start_date = Column(Date)\n",
    "    termination_date = Column(Date)\n",
    "    salary = Column(Float)\n",
    "    department = Column(String)\n",
    "\n",
    "    @validates('salary')\n",
    "    def validate_salary(self, key, value):\n",
    "        if isinstance(value, str):\n",
    "            # Remove dollar sign and commas, then convert to float\n",
    "            value = value.replace('$', '').replace(',', '')\n",
    "        return float(value) if value else None\n",
    "\n",
    "engine = create_engine('sqlite:///employees2.db')\n",
    "Base.metadata.create_all(engine)```\n"
   ]
  },
  {
   "cell_type": "code",
   "execution_count": null,
   "metadata": {},
   "outputs": [],
   "source": [
    "# Ammend the Employee class to clean the problematic columns. This includes the start_date, end_date, and salary columns.Once done, re-map the employees list.\n",
    "\n",
    "\n",
    "\n",
    "type(employees[0].salary) #if done correctly, this should print float"
   ]
  },
  {
   "cell_type": "markdown",
   "metadata": {},
   "source": [
    "# Interacting with the Database\n",
    "Once the tables are created and the data is mapped to the objects, you can interact with the database using the `Session` object provided by SQLAlchemy. The `Session` object is used to manage transactions with the database and provides methods for querying, inserting, updating, and deleting data.\n",
    "\n",
    "## Inserting Data\n",
    "```from sqlalchemy.orm import sessionmaker\n",
    "\n",
    "with sessionmaker(bind=engine) as session:\n",
    "    session.add_all(employees)\n",
    "    session.commit()```\n",
    "\n",
    "This will add all the Employee objects to the database and commit the transaction. You can also query the database using the `query` method of the `Session` object.\n"
   ]
  },
  {
   "cell_type": "markdown",
   "metadata": {},
   "source": [
    "## Querying Data\n",
    "```with sessionmaker(bind=engine) as session:\n",
    "    employees = session.query(Employee).all()\n",
    "    for employee in employees:\n",
    "        print(employee.first_name, employee.last_name)```\n",
    "\n",
    "This will print the first and last names of all the employees in the database."
   ]
  },
  {
   "cell_type": "markdown",
   "metadata": {},
   "source": [
    "To have a query with a condition, you can use the `filter` method of the `query` object.\n",
    "\n",
    "```with sessionmaker(bind=engine) as session:\n",
    "    employees = session.query(Employee).filter(Employee.department == 'HR').all()\n",
    "    for employee in employees:\n",
    "        print(employee.first_name, employee.last_name)```"
   ]
  },
  {
   "cell_type": "markdown",
   "metadata": {},
   "source": [
    "## Updating Data\n",
    "To update a record, you can query the record, update the attributes, and commit the transaction.\n",
    "\n",
    "```with sessionmaker(bind=engine) as session:\n",
    "    employee = session.query(Employee).filter(Employee.first_name == 'Alice').first()\n",
    "    employee.salary = 60000\n",
    "    session.commit()```"
   ]
  },
  {
   "cell_type": "markdown",
   "metadata": {},
   "source": [
    "## Deleting Data\n",
    "To delete a record, you can query the record, call the `delete` method, and commit the transaction.\n",
    "\n",
    "```with sessionmaker(bind=engine) as session:\n",
    "    employee = session.query(Employee).filter(Employee.first_name == 'Alice').first()\n",
    "    session.delete(employee)\n",
    "    session.commit()```"
   ]
  },
  {
   "cell_type": "markdown",
   "metadata": {},
   "source": [
    "# Handling Duplicates\n",
    "Just like in the previous example, duplicate primary keys are going to cause issues. If you use the \"session.add_all\" method, it will throw an error if there are duplicates. You can handle this in a similar way by first checking if the row exists and updating.\n",
    "\n",
    "```with sessionmaker(bind=engine) as session:\n",
    "    for employee in employees:\n",
    "        # Capitalized Employee is the Table, lowercase is the row object\n",
    "        employee = session.query(Employee).filter(Employee.id == employee.id).first()\n",
    "        if employee:\n",
    "            Employee.first_name = employee.first_name\n",
    "            Employee.last_name = employee.last_name\n",
    "            Employee.start_date = employee.start_date\n",
    "            Employee.termination_date = employee.termination_date\n",
    "            Employee.salary = employee.salary\n",
    "            Employee.department = employee.department\n",
    "            # this will update the row in the database\n",
    "        else:\n",
    "            session.add(employee)\n",
    "    session.commit()```"
   ]
  },
  {
   "cell_type": "code",
   "execution_count": null,
   "metadata": {},
   "outputs": [],
   "source": [
    "# read employees.csv and add the data to the database employees2.db\n",
    "\n",
    "\n",
    "\n",
    "\n"
   ]
  },
  {
   "cell_type": "code",
   "execution_count": null,
   "metadata": {},
   "outputs": [],
   "source": [
    "# Update the database employees2.db with the employees2.csv file\n",
    "\n",
    "\n"
   ]
  },
  {
   "cell_type": "code",
   "execution_count": null,
   "metadata": {},
   "outputs": [],
   "source": [
    "# Return a list of employees who make more than $70,000. There should be 10\n",
    "\n",
    "\n",
    "\n",
    "\n",
    "\n",
    "# Return a list of employees that work in the HR department. There should be 4\n",
    "\n",
    "\n",
    "\n",
    "\n",
    "# Return a list of employees who were hired in 2020. There should be 3\n",
    "\n",
    "\n",
    "\n",
    "\n",
    "# Return a list of all active employees that do not have a termination date. There should be 9\n",
    "\n",
    "\n",
    "\n",
    "\n"
   ]
  }
 ],
 "metadata": {
  "kernelspec": {
   "display_name": "Python 3",
   "language": "python",
   "name": "python3"
  },
  "language_info": {
   "codemirror_mode": {
    "name": "ipython",
    "version": 3
   },
   "file_extension": ".py",
   "mimetype": "text/x-python",
   "name": "python",
   "nbconvert_exporter": "python",
   "pygments_lexer": "ipython3",
   "version": "3.11.4"
  }
 },
 "nbformat": 4,
 "nbformat_minor": 2
}
